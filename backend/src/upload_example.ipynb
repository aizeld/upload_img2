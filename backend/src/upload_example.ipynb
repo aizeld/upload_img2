{
 "cells": [
  {
   "cell_type": "code",
   "execution_count": 51,
   "metadata": {},
   "outputs": [],
   "source": [
    "import requests\n",
    "import json\n",
    "\n",
    "\n",
    "from datetime import datetime\n",
    "\n",
    "\n",
    "def get_test_data_for_image_upload():\n",
    "    current_date = datetime.now()\n",
    "    formatted_date = current_date.strftime(\"%Y-%m-%d\")\n",
    "    data = {\n",
    "        'date': f'{formatted_date}',\n",
    "        'context': json.dumps({\n",
    "            \"field_id\": 80254\n",
    "        }),\n",
    "        'map_type': 'NDWI',  # NDVI, AVI, NDWI, OSAVI, VARI, RGB, dem, ortho\n",
    "        'map_info': json.dumps({\n",
    "            \"version\": 0,  # always 0\n",
    "            \"satellite\": \"S2A\"  # 'S2A', 'LC8', 'LC9', 'S2B', 'PLA'\n",
    "        }),\n",
    "        'metrics': json.dumps({\"avg_value\": 32,\n",
    "                               \"variability\": [0.8353, 56.0, 98.0],\n",
    "                               \"distribution\": [{\"area\": 0.0019, \"value\": 1}, {\"area\": 0.0001, \"value\": 2},\n",
    "                                                {\"area\": 0.0001, \"value\": 3}, {\"area\": 0.0002, \"value\": 4},\n",
    "                                                {\"area\": 0.0001, \"value\": 5}, {\"area\": 0.0001, \"value\": 6},\n",
    "                                                {\"area\": 0.0001, \"value\": 7}, {\"area\": 0.0001, \"value\": 8},\n",
    "                                                {\"area\": 0.0004, \"value\": 10}, {\"area\": 0.0004, \"value\": 11},\n",
    "                                                {\"area\": 0.0002, \"value\": 12}, {\"area\": 0.0003, \"value\": 13},\n",
    "                                                {\"area\": 0.0009, \"value\": 14}, {\"area\": 0.0007, \"value\": 15},\n",
    "                                                {\"area\": 0.0019, \"value\": 16}, {\"area\": 0.0017, \"value\": 17},\n",
    "                                                {\"area\": 0.0022, \"value\": 18}, {\"area\": 0.0029, \"value\": 19},\n",
    "                                                {\"area\": 0.0047, \"value\": 20}, {\"area\": 0.005, \"value\": 21},\n",
    "                                                {\"area\": 0.0115, \"value\": 22}, {\"area\": 0.0084, \"value\": 23},\n",
    "                                                {\"area\": 0.0171, \"value\": 24}, {\"area\": 0.014, \"value\": 25},\n",
    "                                                {\"area\": 0.0286, \"value\": 26}, {\"area\": 0.0243, \"value\": 27},\n",
    "                                                {\"area\": 0.0487, \"value\": 28}, {\"area\": 0.0464, \"value\": 29},\n",
    "                                                {\"area\": 0.0878, \"value\": 30}, {\"area\": 0.0704, \"value\": 31},\n",
    "                                                {\"area\": 0.1255, \"value\": 32}, {\"area\": 0.0872, \"value\": 33},\n",
    "                                                {\"area\": 0.1243, \"value\": 34}, {\"area\": 0.0681, \"value\": 35},\n",
    "                                                {\"area\": 0.0772, \"value\": 36}, {\"area\": 0.0392, \"value\": 37},\n",
    "                                                {\"area\": 0.0478, \"value\": 38}, {\"area\": 0.0241, \"value\": 39},\n",
    "                                                {\"area\": 0.0195, \"value\": 40}, {\"area\": 0.0025, \"value\": 41},\n",
    "                                                {\"area\": 0.0026, \"value\": 42}, {\"area\": 0.0005, \"value\": 43}],\n",
    "                               \"cloud_coverage\": 0.0}),\n",
    "        'shape': json.dumps({\"type\":\"MultiPolygon\",\n",
    "                             \"coordinates\":[[[[69.08629420027304,53.20677083662315],[69.14580185975453,53.217738557925856],[69.15952407451243,53.198836373874485],[69.0960969485192,53.18696117408754],[69.08629420027304,53.20677083662315]]]]})\n",
    "    }\n",
    "    return data\n",
    "\n",
    "\n"
   ]
  },
  {
   "cell_type": "code",
   "execution_count": 38,
   "metadata": {},
   "outputs": [
    {
     "name": "stdout",
     "output_type": "stream",
     "text": [
      "{'version': 0, 'satellite': 'S2A'}\n"
     ]
    }
   ],
   "source": [
    "\n",
    "\n",
    "print(get_test_data_for_image_upload().get(\"map_info\"))\n"
   ]
  },
  {
   "cell_type": "code",
   "execution_count": 39,
   "metadata": {},
   "outputs": [
    {
     "name": "stdout",
     "output_type": "stream",
     "text": [
      "{\"field_id\": 80254}\n"
     ]
    }
   ],
   "source": [
    "print(get_test_data_for_image_upload().get(\"context\"))"
   ]
  },
  {
   "cell_type": "code",
   "execution_count": 35,
   "metadata": {},
   "outputs": [
    {
     "name": "stdout",
     "output_type": "stream",
     "text": [
      "{'version': 0, 'satellite': 'S2A'}\n"
     ]
    }
   ],
   "source": [
    "print(get_test_data_for_image_upload().get(\"map_info\"))#without json dumps"
   ]
  },
  {
   "cell_type": "code",
   "execution_count": 52,
   "metadata": {},
   "outputs": [],
   "source": [
    "BASE_URL = 'https://dev1.agroonline.kz/api'  # FOR EU\n",
    "\n",
    "\n",
    "# BASE_URL = 'https://api.on-track.ai/api' # FOR KZ\n",
    "\n",
    "def get_token(login, password):\n",
    "    # URL для аутентификации\n",
    "    auth_url = f\"{BASE_URL}/auth/token/\"\n",
    "\n",
    "    # Данные для отправки в POST-запросе для аутентификации\n",
    "    auth_data = {\n",
    "        \"email\": login,\n",
    "        \"password\": password,\n",
    "        \"remember\": True\n",
    "    }\n",
    "\n",
    "    # Заголовки для запроса аутентификации\n",
    "    auth_headers = {\n",
    "        \"content-type\": \"application/json\",\n",
    "    }\n",
    "\n",
    "    # Отправляем POST-запрос для аутентификации\n",
    "    response = requests.post(auth_url, json=auth_data, headers=auth_headers)\n",
    "\n",
    "    # Получаем токены из ответа\n",
    "    tokens = response.json()\n",
    "    access_token = tokens['access']\n",
    "    \n",
    "    return access_token\n",
    "\n",
    "\n",
    "\n",
    "\n",
    "\n",
    "def upload_image(access_token, company_id, data, file_path):\n",
    "    url = f\"{BASE_URL}/company/{company_id}/maps/satellites/upload/\"\n",
    "    # Заголовки для запроса\n",
    "    headers = {\n",
    "        \"Authorization\": f\"Bearer {access_token}\"\n",
    "    }\n",
    "    # Отправляем POST-запрос\n",
    "    files = {'file': open(file_path, 'rb')}\n",
    "    response = requests.post(url, headers=headers, data=data, files=files)\n",
    "    # Проверяем результат\n",
    "    if response.status_code == 201:\n",
    "        print(\"Данные успешно загружены\")\n",
    "        print(response.json())\n",
    "    else:\n",
    "        print(\"Ошибка загрузки данных:\", response.status_code, response.text)\n",
    "\n",
    "\n",
    "def test():\n",
    "    LOGIN = 'intern@on-track.ai'\n",
    "    PASSWORD = 'Intern123'\n",
    "    COMPANY_ID = \"1093\"  # ID компании\n",
    "\n",
    "    token = get_token(LOGIN, PASSWORD)\n",
    "    # test fields\n",
    "    file_path = \"C:/Users/Asilk/Desktop/work/14072023_59158r2_NDWI_P20190125_S2A.png\"\n",
    "    \n",
    "    # ревизий больше нет, есть только текущая форма поля\n",
    "    upload_image(token, COMPANY_ID, get_test_data_for_image_upload(), file_path)\n",
    "\n",
    "\n"
   ]
  },
  {
   "cell_type": "code",
   "execution_count": 53,
   "metadata": {},
   "outputs": [
    {
     "name": "stdout",
     "output_type": "stream",
     "text": [
      "Данные успешно загружены\n",
      "{'id': 9631621, 'title': None, 'date': '2024-06-04', 'path_to_file': '14072023_59158r2_NDWI_P20190125_S2A.png', 'context': {'field_id': 80254}, 'map_type': 'NDWI', 'map_source': 'satellite', 'map_info': {'version': 0, 'satellite': 'S2A'}, 'metrics': {'avg_value': 32, 'variability': [0.8353, 56.0, 98.0], 'distribution': [{'area': 0.0019, 'value': 1}, {'area': 0.0001, 'value': 2}, {'area': 0.0001, 'value': 3}, {'area': 0.0002, 'value': 4}, {'area': 0.0001, 'value': 5}, {'area': 0.0001, 'value': 6}, {'area': 0.0001, 'value': 7}, {'area': 0.0001, 'value': 8}, {'area': 0.0004, 'value': 10}, {'area': 0.0004, 'value': 11}, {'area': 0.0002, 'value': 12}, {'area': 0.0003, 'value': 13}, {'area': 0.0009, 'value': 14}, {'area': 0.0007, 'value': 15}, {'area': 0.0019, 'value': 16}, {'area': 0.0017, 'value': 17}, {'area': 0.0022, 'value': 18}, {'area': 0.0029, 'value': 19}, {'area': 0.0047, 'value': 20}, {'area': 0.005, 'value': 21}, {'area': 0.0115, 'value': 22}, {'area': 0.0084, 'value': 23}, {'area': 0.0171, 'value': 24}, {'area': 0.014, 'value': 25}, {'area': 0.0286, 'value': 26}, {'area': 0.0243, 'value': 27}, {'area': 0.0487, 'value': 28}, {'area': 0.0464, 'value': 29}, {'area': 0.0878, 'value': 30}, {'area': 0.0704, 'value': 31}, {'area': 0.1255, 'value': 32}, {'area': 0.0872, 'value': 33}, {'area': 0.1243, 'value': 34}, {'area': 0.0681, 'value': 35}, {'area': 0.0772, 'value': 36}, {'area': 0.0392, 'value': 37}, {'area': 0.0478, 'value': 38}, {'area': 0.0241, 'value': 39}, {'area': 0.0195, 'value': 40}, {'area': 0.0025, 'value': 41}, {'area': 0.0026, 'value': 42}, {'area': 0.0005, 'value': 43}], 'cloud_coverage': 0.0}, 'shape': {'type': 'MultiPolygon', 'coordinates': [[[[69.08629420027304, 53.20677083662315], [69.14580185975453, 53.217738557925856], [69.15952407451243, 53.198836373874485], [69.0960969485192, 53.18696117408754], [69.08629420027304, 53.20677083662315]]]]}, 'cultures': [2]}\n"
     ]
    }
   ],
   "source": [
    "test()"
   ]
  },
  {
   "cell_type": "code",
   "execution_count": null,
   "metadata": {},
   "outputs": [],
   "source": []
  }
 ],
 "metadata": {
  "kernelspec": {
   "display_name": "back",
   "language": "python",
   "name": "python3"
  },
  "language_info": {
   "codemirror_mode": {
    "name": "ipython",
    "version": 3
   },
   "file_extension": ".py",
   "mimetype": "text/x-python",
   "name": "python",
   "nbconvert_exporter": "python",
   "pygments_lexer": "ipython3",
   "version": "3.10.14"
  }
 },
 "nbformat": 4,
 "nbformat_minor": 2
}
